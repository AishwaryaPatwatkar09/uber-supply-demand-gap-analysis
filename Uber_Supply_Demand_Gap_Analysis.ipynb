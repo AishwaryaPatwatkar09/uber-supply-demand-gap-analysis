{
  "nbformat": 4,
  "nbformat_minor": 0,
  "metadata": {
    "colab": {
      "private_outputs": true,
      "provenance": [],
      "collapsed_sections": [
        "vncDsAP0Gaoa",
        "FJNUwmbgGyua",
        "w6K7xa23Elo4",
        "yQaldy8SH6Dl",
        "PH-0ReGfmX4f",
        "mDgbUHAGgjLW",
        "O_i_v8NEhb9l",
        "HhfV-JJviCcP",
        "Y3lxredqlCYt",
        "3RnN4peoiCZX",
        "x71ZqKXriCWQ",
        "7hBIi_osiCS2",
        "JlHwYmJAmNHm",
        "35m5QtbWiB9F",
        "PoPl-ycgm1ru",
        "H0kj-8xxnORC",
        "nA9Y7ga8ng1Z",
        "PBTbrJXOngz2",
        "u3PMJOP6ngxN",
        "dauF4eBmngu3",
        "bKJF3rekwFvQ",
        "MSa1f5Uengrz",
        "GF8Ens_Soomf",
        "0wOQAZs5pc--",
        "K5QZ13OEpz2H",
        "lQ7QKXXCp7Bj",
        "448CDAPjqfQr",
        "KSlN3yHqYklG",
        "t6dVpIINYklI",
        "ijmpgYnKYklI",
        "-JiQyfWJYklI",
        "EM7whBJCYoAo",
        "fge-S5ZAYoAp",
        "85gYPyotYoAp",
        "RoGjAbkUYoAp",
        "4Of9eVA-YrdM",
        "iky9q4vBYrdO",
        "F6T5p64dYrdO",
        "y-Ehk30pYrdP",
        "bamQiAODYuh1",
        "QHF8YVU7Yuh3",
        "GwzvFGzlYuh3",
        "qYpmQ266Yuh3",
        "OH-pJp9IphqM",
        "bbFf2-_FphqN",
        "_ouA3fa0phqN",
        "Seke61FWphqN",
        "PIIx-8_IphqN",
        "t27r6nlMphqO",
        "r2jJGEOYphqO",
        "b0JNsNcRphqO",
        "BZR9WyysphqO",
        "jj7wYXLtphqO",
        "eZrbJ2SmphqO",
        "rFu4xreNphqO",
        "YJ55k-q6phqO",
        "gCFgpxoyphqP",
        "OVtJsKN_phqQ",
        "lssrdh5qphqQ",
        "U2RJ9gkRphqQ",
        "1M8mcRywphqQ",
        "tgIPom80phqQ",
        "JMzcOPDDphqR",
        "x-EpHcCOp1ci",
        "X_VqEhTip1ck",
        "8zGJKyg5p1ck",
        "PVzmfK_Ep1ck",
        "n3dbpmDWp1ck",
        "ylSl6qgtp1ck",
        "ZWILFDl5p1ck",
        "M7G43BXep1ck",
        "Ag9LCva-p1cl",
        "E6MkPsBcp1cl",
        "2cELzS2fp1cl",
        "3MPXvC8up1cl",
        "NC_X3p0fY2L0",
        "UV0SzAkaZNRQ",
        "YPEH6qLeZNRQ",
        "q29F0dvdveiT",
        "EXh0U9oCveiU",
        "22aHeOlLveiV",
        "JcMwzZxoAimU",
        "8G2x9gOozGDZ",
        "gCX9965dhzqZ",
        "gIfDvo9L0UH2"
      ]
    },
    "kernelspec": {
      "name": "python3",
      "display_name": "Python 3"
    },
    "language_info": {
      "name": "python"
    }
  },
  "cells": [
    {
      "cell_type": "markdown",
      "source": [
        "# **Project Name**    -   Uber Supply-Demand Gap Analysis\n"
      ],
      "metadata": {
        "id": "vncDsAP0Gaoa"
      }
    },
    {
      "cell_type": "markdown",
      "source": [
        "##### **Project Type**    - EDA\n",
        "##### **By Aishwarya Patwatkar**"
      ],
      "metadata": {
        "id": "beRrZCGUAJYm"
      }
    },
    {
      "cell_type": "markdown",
      "source": [
        "# **Project Summary -**"
      ],
      "metadata": {
        "id": "FJNUwmbgGyua"
      }
    },
    {
      "cell_type": "markdown",
      "source": [
        "This project, titled \"Uber Supply-Demand Gap Analysis\", aims to uncover operational inefficiencies in Uber’s ride request system using Exploratory Data Analysis (EDA) techniques. The dataset contains detailed ride request records, including timestamps, pickup points (Airport or City), ride status (Completed, Cancelled, No Cars Available), and time-based features.\n",
        "\n",
        "Using tools like Excel, SQL (pandasql), and Python (Pandas, Seaborn, Matplotlib), the data was analyzed to identify critical patterns in customer demand, cancellations, and driver availability. Key visualizations and queries revealed that a majority of ride failures occur during Night and Early Morning hours — especially from the Airport pickup point.\n",
        "\n",
        "The project concludes with actionable business recommendations such as driver reallocation, incentive programs, and time-location-based planning to help Uber close the gap between ride demand and supply, improve customer satisfaction, and reduce lost revenue opportunities.\n",
        "\n"
      ],
      "metadata": {
        "id": "F6v_1wHtG2nS"
      }
    },
    {
      "cell_type": "markdown",
      "source": [
        "# **GitHub Link -**"
      ],
      "metadata": {
        "id": "w6K7xa23Elo4"
      }
    },
    {
      "cell_type": "markdown",
      "source": [
        "Provide your GitHub Link here."
      ],
      "metadata": {
        "id": "h1o69JH3Eqqn"
      }
    },
    {
      "cell_type": "markdown",
      "source": [
        "# **Problem Statement**\n"
      ],
      "metadata": {
        "id": "yQaldy8SH6Dl"
      }
    },
    {
      "cell_type": "markdown",
      "source": [
        "Uber is facing a significant operational challenge where a large number of customer ride requests are not being fulfilled — either due to driver cancellations or no cars being available. This supply-demand gap is especially prominent during Night and Early Morning hours and more severe at specific locations like the Airport.\n",
        "\n",
        "This leads to poor customer experience, missed revenue opportunities, and operational inefficiency. The goal of this project is to analyze Uber’s ride request data, identify the root causes of ride failures, and provide data-driven insights to help Uber optimize its operations, improve fulfillment rates, and enhance customer satisfaction."
      ],
      "metadata": {
        "id": "DpeJGUA3kjGy"
      }
    },
    {
      "cell_type": "markdown",
      "source": [
        "#### **Define Your Business Objective?**"
      ],
      "metadata": {
        "id": "PH-0ReGfmX4f"
      }
    },
    {
      "cell_type": "markdown",
      "source": [
        "The primary business objective of this project is to help Uber reduce the gap between ride demand and driver availability, especially during critical hours and locations. By analyzing patterns in trip completion, cancellations, and unavailability, the goal is to:\n",
        "\n",
        "Identify when and where Uber is failing to meet customer demand.\n",
        "\n",
        "Understand the causes behind ride cancellations and \"No Cars Available\" issues.\n",
        "\n",
        "Deliver actionable insights to improve ride fulfillment, optimize driver allocation, and enhance overall customer experience.\n",
        "\n",
        "Through this analysis, Uber can take informed decisions to increase trip completion rates, reduce operational losses, and ensure a more reliable and efficient service."
      ],
      "metadata": {
        "id": "PhDvGCAqmjP1"
      }
    },
    {
      "cell_type": "markdown",
      "source": [
        "# **General Guidelines** : -  "
      ],
      "metadata": {
        "id": "mDgbUHAGgjLW"
      }
    },
    {
      "cell_type": "markdown",
      "source": [
        "1.   Well-structured, formatted, and commented code is required.\n",
        "2.   Exception Handling, Production Grade Code & Deployment Ready Code will be a plus. Those students will be awarded some additional credits.\n",
        "     \n",
        "     The additional credits will have advantages over other students during Star Student selection.\n",
        "       \n",
        "             [ Note: - Deployment Ready Code is defined as, the whole .ipynb notebook should be executable in one go\n",
        "                       without a single error logged. ]\n",
        "\n",
        "3.   Each and every logic should have proper comments.\n",
        "4. You may add as many number of charts you want. Make Sure for each and every chart the following format should be answered.\n",
        "        \n",
        "\n",
        "```\n",
        "# Chart visualization code\n",
        "```\n",
        "            \n",
        "\n",
        "*   Why did you pick the specific chart?\n",
        "*   What is/are the insight(s) found from the chart?\n",
        "* Will the gained insights help creating a positive business impact?\n",
        "Are there any insights that lead to negative growth? Justify with specific reason.\n",
        "\n",
        "5. You have to create at least 20 logical & meaningful charts having important insights.\n",
        "\n",
        "\n",
        "[ Hints : - Do the Vizualization in  a structured way while following \"UBM\" Rule.\n",
        "\n",
        "U - Univariate Analysis,\n",
        "\n",
        "B - Bivariate Analysis (Numerical - Categorical, Numerical - Numerical, Categorical - Categorical)\n",
        "\n",
        "M - Multivariate Analysis\n",
        " ]\n",
        "\n",
        "\n",
        "\n"
      ],
      "metadata": {
        "id": "ZrxVaUj-hHfC"
      }
    },
    {
      "cell_type": "markdown",
      "source": [
        "# ***Let's Begin !***"
      ],
      "metadata": {
        "id": "O_i_v8NEhb9l"
      }
    },
    {
      "cell_type": "markdown",
      "source": [
        "## ***1. Know Your Data***"
      ],
      "metadata": {
        "id": "HhfV-JJviCcP"
      }
    },
    {
      "cell_type": "markdown",
      "source": [
        "### Import Libraries"
      ],
      "metadata": {
        "id": "Y3lxredqlCYt"
      }
    },
    {
      "cell_type": "code",
      "source": [
        "import pandas as pd\n",
        "import matplotlib.pyplot as plt\n",
        "import seaborn as sns\n",
        "import numpy as np"
      ],
      "metadata": {
        "id": "M8Vqi-pPk-HR"
      },
      "execution_count": null,
      "outputs": []
    },
    {
      "cell_type": "markdown",
      "source": [
        "### Dataset Loading"
      ],
      "metadata": {
        "id": "3RnN4peoiCZX"
      }
    },
    {
      "cell_type": "code",
      "source": [
        "df = pd.read_csv('/content/Uber Request Data - Cleaned.csv')  # Or your uploaded file\n",
        "df.head()\n",
        "df.info()\n",
        "df.describe()"
      ],
      "metadata": {
        "id": "4CkvbW_SlZ_R"
      },
      "execution_count": null,
      "outputs": []
    },
    {
      "cell_type": "markdown",
      "source": [
        "### Dataset First View"
      ],
      "metadata": {
        "id": "x71ZqKXriCWQ"
      }
    },
    {
      "cell_type": "code",
      "source": [
        "print(\"🔍 First 5 rows of the dataset:\")\n",
        "df.head()"
      ],
      "metadata": {
        "id": "LWNFOSvLl09H"
      },
      "execution_count": null,
      "outputs": []
    },
    {
      "cell_type": "markdown",
      "source": [
        "### Dataset Rows & Columns count"
      ],
      "metadata": {
        "id": "7hBIi_osiCS2"
      }
    },
    {
      "cell_type": "code",
      "source": [
        "rows, columns = df.shape\n",
        "print(f\"Total Rows: {rows}\")\n",
        "print(f\"Total Columns: {columns}\")"
      ],
      "metadata": {
        "id": "Kllu7SJgmLij"
      },
      "execution_count": null,
      "outputs": []
    },
    {
      "cell_type": "markdown",
      "source": [
        "### Dataset Information"
      ],
      "metadata": {
        "id": "JlHwYmJAmNHm"
      }
    },
    {
      "cell_type": "code",
      "source": [
        "df.info()"
      ],
      "metadata": {
        "id": "e9hRXRi6meOf"
      },
      "execution_count": null,
      "outputs": []
    },
    {
      "cell_type": "markdown",
      "source": [
        "#### Duplicate Values"
      ],
      "metadata": {
        "id": "35m5QtbWiB9F"
      }
    },
    {
      "cell_type": "code",
      "source": [
        "duplicate_count = df.duplicated().sum()\n",
        "print(f\"🔁 Duplicate Rows: {duplicate_count}\")"
      ],
      "metadata": {
        "id": "1sLdpKYkmox0"
      },
      "execution_count": null,
      "outputs": []
    },
    {
      "cell_type": "markdown",
      "source": [
        "#### Missing Values/Null Values"
      ],
      "metadata": {
        "id": "PoPl-ycgm1ru"
      }
    },
    {
      "cell_type": "code",
      "source": [
        "print(\"❌ Missing Values Per Column:\")\n",
        "print(df.isnull().sum())"
      ],
      "metadata": {
        "id": "GgHWkxvamxVg"
      },
      "execution_count": null,
      "outputs": []
    },
    {
      "cell_type": "code",
      "source": [
        "total_missing = df.isnull().sum().sum()\n",
        "print(f\"\\n🔍 Total Missing Values in Dataset: {total_missing}\")"
      ],
      "metadata": {
        "id": "3q5wnI3om9sJ"
      },
      "execution_count": null,
      "outputs": []
    },
    {
      "cell_type": "markdown",
      "source": [
        "### What did you know about your dataset?"
      ],
      "metadata": {
        "id": "H0kj-8xxnORC"
      }
    },
    {
      "cell_type": "markdown",
      "source": [
        "The dataset contains 6,745 ride request records from Uber, including information about pickup points, ride statuses, timestamps, and driver assignments. It is designed to help analyze the supply-demand gap in Uber’s operations.\n",
        "\n",
        "Key Columns:\n",
        "Request id – Unique identifier for each ride request.\n",
        "\n",
        "Pickup point – Where the ride was requested from (Airport or City).\n",
        "\n",
        "Status – Final result of the request (Trip Completed, Cancelled, No Cars Available).\n",
        "\n",
        "Request timestamp / Drop timestamp – Time when the ride was requested and dropped (if completed).\n",
        "\n",
        "Driver ID – Assigned driver’s ID (missing if cancelled or no car).\n",
        "\n",
        "Time slot – Categorized part of the day (Morning, Evening, Night, etc.).\n",
        "\n",
        "Hour – Extracted from request timestamp for time-based analysis.\n",
        "\n",
        "What I Learned:\n",
        "\n",
        "The dataset is well-suited for Exploratory Data Analysis (EDA).\n",
        "\n",
        "There are missing values in Driver ID and Drop timestamp, especially for failed trips.\n",
        "\n",
        "Time and location trends can be uncovered to highlight periods of high cancellations or unavailability.\n",
        "\n",
        "It provides a strong foundation to analyze when and where Uber is facing operational issues, especially due to supply-demand mismatch."
      ],
      "metadata": {
        "id": "gfoNAAC-nUe_"
      }
    },
    {
      "cell_type": "markdown",
      "source": [
        "## ***2. Understanding Your Variables***"
      ],
      "metadata": {
        "id": "nA9Y7ga8ng1Z"
      }
    },
    {
      "cell_type": "markdown",
      "source": [
        "### Variables Description"
      ],
      "metadata": {
        "id": "PBTbrJXOngz2"
      }
    },
    {
      "cell_type": "markdown",
      "source": [
        "| **Column Name**       | **Description**                                                                               |\n",
        "| --------------------- | --------------------------------------------------------------------------------------------- |\n",
        "| **Request id**        | A unique identifier for each ride request.                                                    |\n",
        "| **Pickup point**      | The location where the ride was requested — either **City** or **Airport**.                   |\n",
        "| **Driver ID**         | The unique ID of the driver assigned to the request (if assigned).                            |\n",
        "| **Status**            | The final result of the request: **Trip Completed**, **Cancelled**, or **No Cars Available**. |\n",
        "| **Request timestamp** | The date and time when the ride was requested.                                                |\n",
        "| **Time slot**         | Custom-categorized part of the day based on the request time (e.g., Morning, Night).          |\n",
        "| **Drop timestamp**    | The time when the ride ended (only for completed trips).                                      |\n",
        "| **Hour**              | The hour (0–23) extracted from `Request timestamp` for hourly analysis.                       |\n"
      ],
      "metadata": {
        "id": "aJV4KIxSnxay"
      }
    },
    {
      "cell_type": "markdown",
      "source": [
        "### Check Unique Values for each variable."
      ],
      "metadata": {
        "id": "u3PMJOP6ngxN"
      }
    },
    {
      "cell_type": "code",
      "source": [
        "for col in df.columns:\n",
        "    print(f\"\\n🔹 Column: {col}\")\n",
        "    print(f\"   👉 Unique values count: {df[col].nunique()}\")\n",
        "    print(f\"   📋 Unique values: {df[col].unique()[:10]}\")  # Show first 10 unique values only"
      ],
      "metadata": {
        "id": "zms12Yq5n-jE"
      },
      "execution_count": null,
      "outputs": []
    },
    {
      "cell_type": "markdown",
      "source": [
        "## 3. ***Data Wrangling***"
      ],
      "metadata": {
        "id": "dauF4eBmngu3"
      }
    },
    {
      "cell_type": "markdown",
      "source": [
        "### Data Wrangling Code"
      ],
      "metadata": {
        "id": "bKJF3rekwFvQ"
      }
    },
    {
      "cell_type": "code",
      "source": [
        "# Import required libraries\n",
        "import pandas as pd\n",
        "import numpy as np\n",
        "\n",
        "# Load the dataset\n",
        "df = pd.read_csv('/content/Uber Request Data - Cleaned.csv')\n",
        "\n",
        "# 1. Convert timestamps to datetime format\n",
        "df['Request timestamp'] = pd.to_datetime(df['Request timestamp'], dayfirst=True)\n",
        "df['Drop timestamp'] = pd.to_datetime(df['Drop timestamp'], dayfirst=True)\n",
        "\n",
        "# 2. Create Hour column if not already present\n",
        "if 'Hour' not in df.columns:\n",
        "    df['Hour'] = df['Request timestamp'].dt.hour\n",
        "\n",
        "# 3. Create Time slot column\n",
        "def get_time_slot(hour):\n",
        "    if 0 <= hour < 5:\n",
        "        return 'Night'\n",
        "    elif 5 <= hour < 7:\n",
        "        return 'Early Morning'\n",
        "    elif 7 <= hour < 11:\n",
        "        return 'Morning'\n",
        "    elif 11 <= hour < 16:\n",
        "        return 'Afternoon'\n",
        "    elif 16 <= hour < 20:\n",
        "        return 'Evening'\n",
        "    else:\n",
        "        return 'Late Evening'\n",
        "\n",
        "df['Time slot'] = df['Hour'].apply(get_time_slot)\n",
        "\n",
        "# 4. Handle missing values (optional)\n",
        "df['Driver ID'].fillna('Unavailable', inplace=True)\n",
        "df['Drop timestamp'].fillna('No Ride', inplace=True)\n",
        "\n",
        "# 5. Remove duplicates if any\n",
        "df.drop_duplicates(inplace=True)\n",
        "\n",
        "# 6. Final check\n",
        "print(\"✅ Dataset is now analysis ready!\")\n",
        "df.head()"
      ],
      "metadata": {
        "id": "wk-9a2fpoLcV"
      },
      "execution_count": null,
      "outputs": []
    },
    {
      "cell_type": "markdown",
      "source": [
        "### What all manipulations have you done and insights you found?"
      ],
      "metadata": {
        "id": "MSa1f5Uengrz"
      }
    },
    {
      "cell_type": "markdown",
      "source": [
        "Manipulations Performed:\n",
        "Datetime Conversion:\n",
        "\n",
        "Converted Request timestamp and Drop timestamp to datetime format for time-based analysis.\n",
        "\n",
        "Feature Engineering:\n",
        "\n",
        "Extracted Hour from Request timestamp to analyze demand trends hour-wise.\n",
        "\n",
        "Created a new column Time slot to group requests into parts of the day (e.g., Morning, Night, etc.).\n",
        "\n",
        "Handling Missing Values:\n",
        "\n",
        "Filled missing Driver ID values with \"Unavailable\" for cancelled or unassigned trips.\n",
        "\n",
        "Filled missing Drop timestamp values with \"No Ride\" for unfulfilled requests.\n",
        "\n",
        "Removing Duplicates:\n",
        "\n",
        "Removed any duplicate rows to avoid skewed analysis.\n",
        "\n",
        "Data Segmentation:\n",
        "\n",
        "Filtered the dataset by Status to analyze:\n",
        "\n",
        "Completed rides\n",
        "\n",
        "Cancelled rides\n",
        "\n",
        "“No Cars Available” cases\n",
        "\n",
        "Visualizations & SQL Queries:\n",
        "\n",
        "Created charts like:\n",
        "\n",
        "Trip Status Distribution\n",
        "\n",
        "Requests by Time Slot\n",
        "\n",
        "Cancellations & No Cars by Hour\n",
        "\n",
        "Pickup Point vs Status\n",
        "\n",
        "Heatmap of Issues by Time and Location\n",
        "\n",
        "Insights Found:\n",
        "Most ride failures occur during Night (11 PM–5 AM) and Early Morning (5–7 AM).\n",
        "\n",
        "Airport pickups face more cancellations and “No Cars Available” issues than City pickups.\n",
        "\n",
        "Morning and Evening have the highest number of requests, indicating office commute peaks.\n",
        "\n",
        "Only around 42% of ride requests are completed, meaning Uber is missing out on a large number of potential customers.\n",
        "\n",
        "Heatmap revealed that Airport + Night/Early Morning is the most problematic combination."
      ],
      "metadata": {
        "id": "LbyXE7I1olp8"
      }
    },
    {
      "cell_type": "markdown",
      "source": [
        "## ***4. Data Vizualization, Storytelling & Experimenting with charts : Understand the relationships between variables***"
      ],
      "metadata": {
        "id": "GF8Ens_Soomf"
      }
    },
    {
      "cell_type": "markdown",
      "source": [
        "#### Chart - 1"
      ],
      "metadata": {
        "id": "0wOQAZs5pc--"
      }
    },
    {
      "cell_type": "code",
      "source": [
        "sns.countplot(data=df, x='Status')\n",
        "plt.title('Trip Status Distribution')\n",
        "plt.show()"
      ],
      "metadata": {
        "id": "7v_ESjsspbW7"
      },
      "execution_count": null,
      "outputs": []
    },
    {
      "cell_type": "markdown",
      "source": [
        "##### 1. Why did you pick the specific chart?"
      ],
      "metadata": {
        "id": "K5QZ13OEpz2H"
      }
    },
    {
      "cell_type": "markdown",
      "source": [
        "I used a count plot (bar chart) because it is the most effective way to visualize the frequency of categorical variables—in this case, the Status column. This chart clearly shows how many ride requests were:\n",
        "\n",
        "Successfully completed\n",
        "\n",
        "Cancelled by the driver or customer\n",
        "\n",
        "Not fulfilled due to “No Cars Available”\n",
        "\n",
        "It provides a quick and visual comparison of how Uber is performing in terms of service completion vs. service failure."
      ],
      "metadata": {
        "id": "lQ7QKXXCp7Bj"
      }
    },
    {
      "cell_type": "markdown",
      "source": [
        "2. What is/are the insight(s) found from the chart?"
      ],
      "metadata": {
        "id": "C_j1G7yiqdRP"
      }
    },
    {
      "cell_type": "markdown",
      "source": [
        "From the chart, we observed that:\n",
        "\n",
        "A significant portion of trips were not completed.\n",
        "\n",
        "The number of “No Cars Available” cases is almost as high as completed trips, indicating a serious supply shortage during certain periods.\n",
        "\n",
        "Cancelled rides are also substantial, which may be due to driver preferences, fatigue, or peak-time stress.\n",
        "\n",
        "This shows that only around 40–45% of requests are being successfully fulfilled."
      ],
      "metadata": {
        "id": "LrTM-FH23Koo"
      }
    },
    {
      "cell_type": "markdown",
      "source": [
        "##### 3. Will the gained insights help creating a positive business impact?\n",
        "Are there any insights that lead to negative growth? Justify with specific reason."
      ],
      "metadata": {
        "id": "448CDAPjqfQr"
      }
    },
    {
      "cell_type": "markdown",
      "source": [
        "**Positive Business Impact:**\n",
        "\n",
        "The insights gained from the Trip Status Distribution chart can create a strong positive business impact.\n",
        "\n",
        "By visualizing the number of trips that are Completed, Cancelled, or resulted in No Cars Available, Uber can:\n",
        "\n",
        "Identify operational weaknesses — such as when and where driver shortages occur.\n",
        "\n",
        "Take proactive steps like deploying more drivers during high-demand periods.\n",
        "\n",
        "Improve customer satisfaction by reducing cancellations and increasing trip fulfillment rates.\n",
        "\n",
        "Boost revenue by converting more ride requests into completed trips.\n",
        "\n",
        "These changes, guided by data, can directly improve the efficiency, profitability, and reputation of Uber’s service.\n",
        "\n",
        "**Insights That Could Lead to Negative Growth:**\n",
        "\n",
        "The chart also reveals risks that, if ignored, can lead to negative business growth:\n",
        "\n",
        "High “No Cars Available” Instances\n",
        "\n",
        "A large number of ride requests are not fulfilled at all.\n",
        "\n",
        "This leads to lost customers, as users may shift to competitors like Ola or Rapido.\n",
        "\n",
        "Frequent unavailability can damage the brand image.\n",
        "\n",
        "High Cancellations\n",
        "\n",
        "Cancellations indicate driver dissatisfaction, poor allocation, or system inefficiency.\n",
        "\n",
        "Customers who face repeated cancellations are less likely to use Uber again.\n",
        "\n",
        "This leads to reduced customer retention and lower app usage.\n",
        "\n",
        "**Specific Justification:**\n",
        "\n",
        "In this dataset:\n",
        "\n",
        "Only about 42% of the rides are completed.\n",
        "\n",
        "Around 58% of requests either get cancelled or show “No Cars Available.”\n",
        "\n",
        "This means more than half of Uber’s customers are not being served, which can result in:\n",
        "\n",
        "Loss of revenue per day\n",
        "\n",
        "Loss of repeat customers\n",
        "\n",
        "Damage to platform reliability perception\n",
        "\n",
        "If this continues without action, it could lead to declining market share and business loss over time"
      ],
      "metadata": {
        "id": "3cspy4FjqxJW"
      }
    },
    {
      "cell_type": "markdown",
      "source": [
        "#### Chart - 2"
      ],
      "metadata": {
        "id": "KSlN3yHqYklG"
      }
    },
    {
      "cell_type": "code",
      "source": [
        "sns.countplot(data=df, x='Time slot', order=df['Time slot'].value_counts().index)\n",
        "plt.title('Requests by Time Slot')\n",
        "plt.xticks(rotation=45)\n",
        "plt.show()"
      ],
      "metadata": {
        "id": "R4YgtaqtYklH"
      },
      "execution_count": null,
      "outputs": []
    },
    {
      "cell_type": "markdown",
      "source": [
        "##### 1. Why did you pick the specific chart?"
      ],
      "metadata": {
        "id": "t6dVpIINYklI"
      }
    },
    {
      "cell_type": "markdown",
      "source": [
        "I selected a count plot (bar chart) to visualize the number of Uber ride requests across different time slots of the day. Since the Time slot column represents a categorical variable, a countplot is ideal for comparing how demand fluctuates over time in a visually clear and informative way. This chart helps identify peak and off-peak demand hours, which is crucial for analyzing Uber’s supply-demand balance."
      ],
      "metadata": {
        "id": "5aaW0BYyYklI"
      }
    },
    {
      "cell_type": "markdown",
      "source": [
        "\n",
        "##### 2. What is/are the insight(s) found from the chart?"
      ],
      "metadata": {
        "id": "ijmpgYnKYklI"
      }
    },
    {
      "cell_type": "markdown",
      "source": [
        "The chart clearly shows that Morning and Evening slots have the highest number of ride requests.\n",
        "\n",
        "Night and Early Morning slots have significantly fewer requests, but these are often associated with high cancellation rates and no driver availability (seen in other charts).\n",
        "\n",
        "This imbalance suggests that demand is not evenly distributed throughout the day.\n",
        "\n",
        "So while requests are highest in Morning and Evening (possibly due to office/school travel), Uber is struggling the most during Night and Early Morning, even if demand is slightly lower there."
      ],
      "metadata": {
        "id": "PSx9atu2YklI"
      }
    },
    {
      "cell_type": "markdown",
      "source": [
        "##### 3. Will the gained insights help creating a positive business impact?\n",
        "Are there any insights that lead to negative growth? Justify with specific reason."
      ],
      "metadata": {
        "id": "-JiQyfWJYklI"
      }
    },
    {
      "cell_type": "markdown",
      "source": [
        "**Positive Business Impact:**\n",
        "\n",
        "These insights can help Uber:\n",
        "\n",
        "Anticipate high-demand periods (Morning & Evening) and ensure enough drivers are scheduled.\n",
        "\n",
        "Proactively allocate drivers to avoid cancellations during off-peak hours like Night and Early Morning.\n",
        "\n",
        "Design targeted incentives for drivers to cover low-supply slots more effectively.\n",
        "\n",
        "This directly supports better trip fulfillment, increased revenue, and higher customer satisfaction.\n",
        "\n",
        "**Risk of Negative Growth:**\n",
        "\n",
        "If Uber continues to ignore Night and Early Morning time slots, it could lead to:\n",
        "\n",
        "Repeated trip failures even during low-demand hours.\n",
        "\n",
        "Loss of critical service trust (e.g., airport travelers or emergency users).\n",
        "\n",
        "Negative app ratings and customer churn.\n",
        "\n",
        "This hurts Uber’s reputation as a reliable 24/7 service and may result in customers switching to other platforms."
      ],
      "metadata": {
        "id": "BcBbebzrYklV"
      }
    },
    {
      "cell_type": "markdown",
      "source": [
        "#### Chart - 3"
      ],
      "metadata": {
        "id": "EM7whBJCYoAo"
      }
    },
    {
      "cell_type": "code",
      "source": [
        "sns.countplot(data=df, x='Pickup point', hue='Status')\n",
        "plt.title('Trip Status by Pickup Point')\n",
        "plt.show()"
      ],
      "metadata": {
        "id": "t6GMdE67YoAp"
      },
      "execution_count": null,
      "outputs": []
    },
    {
      "cell_type": "markdown",
      "source": [
        "##### 1. Why did you pick the specific chart?"
      ],
      "metadata": {
        "id": "fge-S5ZAYoAp"
      }
    },
    {
      "cell_type": "markdown",
      "source": [
        "I chose a grouped bar chart (countplot with hue='Status') to compare the ride outcomes (statuses) across the two pickup locations — Airport and City. This chart allows us to analyze the distribution of Completed, Cancelled, and No Cars Available for each pickup point side by side, helping identify where the supply-demand gap is worse.\n",
        "\n",
        "This is important because the pickup point plays a major role in trip completion success and can influence Uber’s strategy for allocating drivers."
      ],
      "metadata": {
        "id": "5dBItgRVYoAp"
      }
    },
    {
      "cell_type": "markdown",
      "source": [
        "##### 2. What is/are the insight(s) found from the chart?"
      ],
      "metadata": {
        "id": "85gYPyotYoAp"
      }
    },
    {
      "cell_type": "markdown",
      "source": [
        "Airport pickups have significantly more Cancelled and No Cars Available requests compared to the City.\n",
        "\n",
        "In contrast, City pickups show a higher proportion of Completed trips, indicating better driver availability and fulfillment rates.\n",
        "\n",
        "The chart reveals that supply issues are more severe at the Airport, even though demand is high there.\n",
        "\n",
        "This insight suggests that Airport users are underserved, possibly due to longer travel distances, parking challenges, or fewer returning drivers."
      ],
      "metadata": {
        "id": "4jstXR6OYoAp"
      }
    },
    {
      "cell_type": "markdown",
      "source": [
        "##### 3. Will the gained insights help creating a positive business impact?\n",
        "Are there any insights that lead to negative growth? Justify with specific reason."
      ],
      "metadata": {
        "id": "RoGjAbkUYoAp"
      }
    },
    {
      "cell_type": "markdown",
      "source": [
        "**Positive Business Impact:**\n",
        "\n",
        "These insights are extremely valuable because they can help Uber:\n",
        "\n",
        "Reallocate or reserve drivers specifically for Airport pickups during peak hours.\n",
        "\n",
        "Design location-based incentives for drivers to pick up or return to the Airport area.\n",
        "\n",
        "Improve fulfillment and reduce missed business from high-value Airport customers.\n",
        "\n",
        "Solving this imbalance can directly boost completed trips, customer satisfaction, and brand reliability, especially for travelers who rely on timely service.\n",
        "\n",
        "**Risk of Negative Growth:**\n",
        "\n",
        "If the Airport cancellation and unavailability trend continues, it could:\n",
        "\n",
        "Frustrate frequent flyers and airport commuters who expect reliability.\n",
        "\n",
        "Lead to negative app reviews, loss of repeat customers, and shifts to competitors.\n",
        "\n",
        "Damage Uber's reputation for airport coverage, a critical segment for high-value trips.\n",
        "\n",
        "Neglecting this insight could result in long-term customer churn, especially from a business-oriented audience."
      ],
      "metadata": {
        "id": "zfJ8IqMcYoAp"
      }
    },
    {
      "cell_type": "markdown",
      "source": [
        "#### Chart - 4"
      ],
      "metadata": {
        "id": "4Of9eVA-YrdM"
      }
    },
    {
      "cell_type": "code",
      "source": [
        "cancel_unavail = df[df['Status'].isin(['Cancelled', 'No Cars Available'])]\n",
        "\n",
        "sns.countplot(data=cancel_unavail, x='Time slot', hue='Status', order=cancel_unavail['Time slot'].value_counts().index)\n",
        "plt.title('Cancelled & No Cars by Time Slot')\n",
        "plt.xticks(rotation=45)\n",
        "plt.show()"
      ],
      "metadata": {
        "id": "irlUoxc8YrdO"
      },
      "execution_count": null,
      "outputs": []
    },
    {
      "cell_type": "markdown",
      "source": [
        "##### 1. Why did you pick the specific chart?"
      ],
      "metadata": {
        "id": "iky9q4vBYrdO"
      }
    },
    {
      "cell_type": "markdown",
      "source": [
        "I chose this grouped bar chart to visualize the distribution of unsuccessful trips (i.e., those that were either Cancelled or showed “No Cars Available”) across different time slots.\n",
        "\n",
        "This chart helps identify which parts of the day face the most severe supply issues, making it easier to pinpoint when Uber is unable to meet customer demand. It's a crucial visual for understanding when Uber’s service delivery breaks down."
      ],
      "metadata": {
        "id": "aJRCwT6DYrdO"
      }
    },
    {
      "cell_type": "markdown",
      "source": [
        "##### 2. What is/are the insight(s) found from the chart?"
      ],
      "metadata": {
        "id": "F6T5p64dYrdO"
      }
    },
    {
      "cell_type": "markdown",
      "source": [
        "Early Morning (e.g., 5 AM to 7 AM) shows the highest cancellations, likely due to drivers rejecting trips or not being available.\n",
        "\n",
        "Night time slots (e.g., 11 PM to 4 AM) show the highest “No Cars Available” cases — meaning Uber isn’t even matching a driver to the ride.\n",
        "\n",
        "These are the critical failure zones where Uber is unable to fulfill ride requests.\n",
        "\n",
        "This insight reveals that the supply-demand gap is time-sensitive, with cancellations peaking early morning and driver unavailability peaking at night."
      ],
      "metadata": {
        "id": "Xx8WAJvtYrdO"
      }
    },
    {
      "cell_type": "markdown",
      "source": [
        "##### 3. Will the gained insights help creating a positive business impact?\n",
        "Are there any insights that lead to negative growth? Justify with specific reason."
      ],
      "metadata": {
        "id": "y-Ehk30pYrdP"
      }
    },
    {
      "cell_type": "markdown",
      "source": [
        "**Positive Business Impact:**\n",
        "\n",
        "These insights are extremely valuable for Uber’s operations. By acting on them, Uber can:\n",
        "\n",
        "Deploy more drivers during high-failure slots like Night and Early Morning.\n",
        "\n",
        "Introduce early morning shift bonuses to prevent cancellations.\n",
        "\n",
        "Improve customer satisfaction by reducing failed trip attempts.\n",
        "\n",
        "Convert missed rides into revenue, increasing daily trip completions.\n",
        "\n",
        "This creates a direct path to better service coverage, improved trust, and higher earnings.\n",
        "\n",
        "**Risk of Negative Growth:**\n",
        "\n",
        "If these time-slot issues are ignored, it can lead to:\n",
        "\n",
        "User frustration due to repeated failed rides at critical times (e.g., catching a flight early morning).\n",
        "\n",
        "Customer churn, especially for those relying on off-peak travel.\n",
        "\n",
        "Loss of brand trust for 24/7 service reliability.\n",
        "\n",
        "This can result in negative reviews, fewer daily active users, and a reduction in market share, especially to competitors offering better reliability during off-hours."
      ],
      "metadata": {
        "id": "jLNxxz7MYrdP"
      }
    },
    {
      "cell_type": "markdown",
      "source": [
        "#### Chart - 5"
      ],
      "metadata": {
        "id": "bamQiAODYuh1"
      }
    },
    {
      "cell_type": "code",
      "source": [
        "heatmap_data = pd.crosstab(cancel_unavail['Time slot'], cancel_unavail['Pickup point'])\n",
        "\n",
        "sns.heatmap(heatmap_data, annot=True, cmap='Reds')\n",
        "plt.title('Heatmap of Issues by Time Slot & Pickup Point')\n",
        "plt.show()"
      ],
      "metadata": {
        "id": "TIJwrbroYuh3"
      },
      "execution_count": null,
      "outputs": []
    },
    {
      "cell_type": "markdown",
      "source": [
        "##### 1. Why did you pick the specific chart?"
      ],
      "metadata": {
        "id": "QHF8YVU7Yuh3"
      }
    },
    {
      "cell_type": "markdown",
      "source": [
        "I selected a heatmap because it is the most effective way to visualize two-dimensional relationships — in this case, between Time slot and Pickup point — and show the frequency of unfulfilled requests (Cancelled + No Cars Available).\n",
        "\n",
        "The heatmap allows us to:\n",
        "\n",
        "Identify patterns quickly through color intensity\n",
        "\n",
        "Spot the worst-performing combinations (e.g., Night + Airport)\n",
        "\n",
        "Present the data in a visually compact and professional format\n",
        "\n",
        "This is ideal for showcasing where Uber faces the most operational stress in terms of location and time together."
      ],
      "metadata": {
        "id": "dcxuIMRPYuh3"
      }
    },
    {
      "cell_type": "markdown",
      "source": [
        "##### 2. What is/are the insight(s) found from the chart?"
      ],
      "metadata": {
        "id": "GwzvFGzlYuh3"
      }
    },
    {
      "cell_type": "markdown",
      "source": [
        "The darkest red cells (highest values) are mostly concentrated around:\n",
        "\n",
        "Airport pickups\n",
        "\n",
        "During Night and Early Morning time slots\n",
        "\n",
        "This indicates that most of Uber’s failed rides (either cancelled or no cars) occur from the Airport during these times.\n",
        "\n",
        "The City also shows some issues, but they are less frequent and less severe in comparison.\n",
        "\n",
        "Insight Summary:\n",
        "\n",
        "The combination of Airport + Night/Early Morning is the most problematic, where Uber is consistently unable to meet demand."
      ],
      "metadata": {
        "id": "uyqkiB8YYuh3"
      }
    },
    {
      "cell_type": "markdown",
      "source": [
        "##### 3. Will the gained insights help creating a positive business impact?\n",
        "Are there any insights that lead to negative growth? Justify with specific reason."
      ],
      "metadata": {
        "id": "qYpmQ266Yuh3"
      }
    },
    {
      "cell_type": "markdown",
      "source": [
        "**Positive Business Impact:**\n",
        "\n",
        "These insights allow Uber to:\n",
        "\n",
        "Target the exact location + time combinations that need intervention.\n",
        "\n",
        "Improve planning by allocating more drivers to Airport at Night and Early Morning.\n",
        "\n",
        "Implement location-time-based incentives or scheduling systems.\n",
        "\n",
        "Reduce failed rides and increase ride completion percentage.\n",
        "\n",
        "This can directly lead to improved customer retention, increased revenue, and a stronger brand reputation for availability.\n",
        "\n",
        "**Risk of Negative Growth:**\n",
        "\n",
        "If Uber ignores these high-risk time-location blocks:\n",
        "\n",
        "Frequent travelers, airport commuters, and emergency riders will experience consistent failures.\n",
        "\n",
        "Leads to high customer churn, especially among time-sensitive users.\n",
        "\n",
        "Can cause reputation damage, as users may feel Uber is unreliable during critical hours.\n",
        "\n",
        "Over time, this could reduce app usage during late hours, negatively impacting revenue and opening space for competitors."
      ],
      "metadata": {
        "id": "_WtzZ_hCYuh4"
      }
    },
    {
      "cell_type": "markdown",
      "source": [
        "#### Chart - 6"
      ],
      "metadata": {
        "id": "OH-pJp9IphqM"
      }
    },
    {
      "cell_type": "code",
      "source": [
        "plt.figure(figsize=(10,5))\n",
        "sns.countplot(data=df, x='Hour', palette='viridis')\n",
        "plt.title('Ride Requests by Hour of the Day')\n",
        "plt.xlabel('Hour (24-hour format)')\n",
        "plt.ylabel('Number of Requests')\n",
        "plt.grid(True)\n",
        "plt.show()"
      ],
      "metadata": {
        "id": "kuRf4wtuphqN"
      },
      "execution_count": null,
      "outputs": []
    },
    {
      "cell_type": "markdown",
      "source": [
        "##### 1. Why did you pick the specific chart?"
      ],
      "metadata": {
        "id": "bbFf2-_FphqN"
      }
    },
    {
      "cell_type": "markdown",
      "source": [
        "I selected this bar chart to visualize the hourly distribution of ride requests. The Hour column is numerical (ranging from 0 to 23), and a countplot allows us to easily see which hours have the highest and lowest demand.\n",
        "\n",
        "This chart provides a time-specific breakdown, helping Uber understand hourly demand patterns, which is essential for driver scheduling and demand forecasting."
      ],
      "metadata": {
        "id": "loh7H2nzphqN"
      }
    },
    {
      "cell_type": "markdown",
      "source": [
        "##### 2. What is/are the insight(s) found from the chart?"
      ],
      "metadata": {
        "id": "_ouA3fa0phqN"
      }
    },
    {
      "cell_type": "markdown",
      "source": [
        "Demand peaks around 8 AM and 6–7 PM, aligning with office hours and evening commutes.\n",
        "\n",
        "There is a noticeable dip in ride requests during late-night hours (12 AM to 5 AM).\n",
        "\n",
        "Early Morning (4 AM–7 AM) still shows moderate activity, possibly from airport or early commuters.\n",
        "\n",
        "Insight Summary:\n",
        "\n",
        "Uber experiences predictable spikes in ride requests during Morning (7–10 AM) and Evening (5–8 PM). These are key periods for ride optimization."
      ],
      "metadata": {
        "id": "VECbqPI7phqN"
      }
    },
    {
      "cell_type": "markdown",
      "source": [
        "##### 3. Will the gained insights help creating a positive business impact?\n",
        "Are there any insights that lead to negative growth? Justify with specific reason."
      ],
      "metadata": {
        "id": "Seke61FWphqN"
      }
    },
    {
      "cell_type": "markdown",
      "source": [
        "**Positive Business Impact:**\n",
        "\n",
        "These insights are very useful to:\n",
        "\n",
        "Optimize driver shift scheduling — ensuring more drivers are online during high-demand hours.\n",
        "\n",
        "Reduce cancellations and “No Cars” problems by matching demand proactively.\n",
        "\n",
        "Improve customer satisfaction during peak hours by maintaining smooth ride availability.\n",
        "\n",
        "This leads to better ride fulfillment, higher revenue, and a stronger competitive edge.\n",
        "\n",
        "**Risk of Negative Growth:**\n",
        "\n",
        "If Uber does not act on hourly patterns:\n",
        "\n",
        "Drivers may be offline during demand spikes, leading to unmet demand and cancellations.\n",
        "\n",
        "Night-time requests, even if fewer, might be ignored — hurting customer trust and affecting critical users (airport travelers, emergencies).\n",
        "\n",
        "Poor scheduling could overload drivers during peak hours, leading to burnout and cancellations.\n",
        "\n",
        "This could result in negative app reviews, lower retention, and lost market share."
      ],
      "metadata": {
        "id": "DW4_bGpfphqN"
      }
    },
    {
      "cell_type": "markdown",
      "source": [
        "#### Chart - 7"
      ],
      "metadata": {
        "id": "PIIx-8_IphqN"
      }
    },
    {
      "cell_type": "code",
      "source": [
        "pickup_counts = df['Pickup point'].value_counts()\n",
        "\n",
        "plt.figure(figsize=(6,6))\n",
        "plt.pie(pickup_counts, labels=pickup_counts.index, autopct='%1.1f%%', startangle=140, colors=['#66b3ff','#ff9999'])\n",
        "plt.title('Pickup Point Distribution')\n",
        "plt.axis('equal')\n",
        "plt.show()"
      ],
      "metadata": {
        "id": "lqAIGUfyphqO"
      },
      "execution_count": null,
      "outputs": []
    },
    {
      "cell_type": "markdown",
      "source": [
        "##### 1. Why did you pick the specific chart?"
      ],
      "metadata": {
        "id": "t27r6nlMphqO"
      }
    },
    {
      "cell_type": "markdown",
      "source": [
        "I used a pie chart because it is the most effective way to visualize the proportion of ride requests by pickup location. Since the Pickup point column contains only two categories — Airport and City — a pie chart provides a clear visual comparison of how requests are split between these two key locations.\n",
        "\n",
        "This format is ideal when the goal is to show percentage shares of a whole in a simple and intuitive way."
      ],
      "metadata": {
        "id": "iv6ro40sphqO"
      }
    },
    {
      "cell_type": "markdown",
      "source": [
        "##### 2. What is/are the insight(s) found from the chart?"
      ],
      "metadata": {
        "id": "r2jJGEOYphqO"
      }
    },
    {
      "cell_type": "markdown",
      "source": [
        "The chart shows that a slightly higher percentage of ride requests originate from the Airport compared to the City.\n",
        "\n",
        "This indicates that the Airport is a major source of demand and plays a crucial role in Uber’s business operations.\n",
        "\n",
        "Despite similar request volumes, other charts showed more cancellations and “No Cars Available” issues at the Airport, revealing a mismatch between demand and supply at that location.\n",
        "\n",
        "Insight Summary:\n",
        "\n",
        "The Airport generates a higher portion of ride requests, yet it experiences more fulfillment issues — which suggests the need for better resource allocation in that zone."
      ],
      "metadata": {
        "id": "Po6ZPi4hphqO"
      }
    },
    {
      "cell_type": "markdown",
      "source": [
        "##### 3. Will the gained insights help creating a positive business impact?\n",
        "Are there any insights that lead to negative growth? Justify with specific reason."
      ],
      "metadata": {
        "id": "b0JNsNcRphqO"
      }
    },
    {
      "cell_type": "markdown",
      "source": [
        "**Positive Business Impact:**\n",
        "\n",
        "Knowing the pickup distribution helps Uber:\n",
        "\n",
        "Prioritize operational resources (drivers, incentives) at higher-demand areas like the Airport.\n",
        "\n",
        "Improve service quality and reliability for customers using Uber for travel to/from the Airport.\n",
        "\n",
        "Increase completion rates by ensuring supply meets demand where it's needed most.\n",
        "\n",
        "This insight can guide location-based driver strategies, improve customer satisfaction, and increase overall trip conversion.\n",
        "\n",
        "**Risk of Negative Growth:**\n",
        "\n",
        "If Uber ignores the higher demand at the Airport, it risks:\n",
        "\n",
        "Losing loyal and frequent users (like business or air travelers).\n",
        "\n",
        "Increased cancellations and “No Cars Available” scenarios — leading to negative reviews and customer churn.\n",
        "\n",
        "Giving competitors an edge in a high-value zone like the Airport.\n",
        "\n",
        "This can result in lost revenue and reduced brand reputation, especially during travel-heavy seasons."
      ],
      "metadata": {
        "id": "xvSq8iUTphqO"
      }
    },
    {
      "cell_type": "markdown",
      "source": [
        "#### Chart - 8"
      ],
      "metadata": {
        "id": "BZR9WyysphqO"
      }
    },
    {
      "cell_type": "code",
      "source": [
        "# Chart - 8 visualization code"
      ],
      "metadata": {
        "id": "TdPTWpAVphqO"
      },
      "execution_count": null,
      "outputs": []
    },
    {
      "cell_type": "markdown",
      "source": [
        "##### 1. Why did you pick the specific chart?"
      ],
      "metadata": {
        "id": "jj7wYXLtphqO"
      }
    },
    {
      "cell_type": "markdown",
      "source": [
        "Answer Here."
      ],
      "metadata": {
        "id": "Ob8u6rCTphqO"
      }
    },
    {
      "cell_type": "markdown",
      "source": [
        "##### 2. What is/are the insight(s) found from the chart?"
      ],
      "metadata": {
        "id": "eZrbJ2SmphqO"
      }
    },
    {
      "cell_type": "markdown",
      "source": [
        "Answer Here"
      ],
      "metadata": {
        "id": "mZtgC_hjphqO"
      }
    },
    {
      "cell_type": "markdown",
      "source": [
        "##### 3. Will the gained insights help creating a positive business impact?\n",
        "Are there any insights that lead to negative growth? Justify with specific reason."
      ],
      "metadata": {
        "id": "rFu4xreNphqO"
      }
    },
    {
      "cell_type": "markdown",
      "source": [
        "Answer Here"
      ],
      "metadata": {
        "id": "ey_0qi68phqO"
      }
    },
    {
      "cell_type": "markdown",
      "source": [
        "#### Chart - 9"
      ],
      "metadata": {
        "id": "YJ55k-q6phqO"
      }
    },
    {
      "cell_type": "code",
      "source": [
        "# Chart - 9 visualization code"
      ],
      "metadata": {
        "id": "B2aS4O1ophqO"
      },
      "execution_count": null,
      "outputs": []
    },
    {
      "cell_type": "markdown",
      "source": [
        "##### 1. Why did you pick the specific chart?"
      ],
      "metadata": {
        "id": "gCFgpxoyphqP"
      }
    },
    {
      "cell_type": "markdown",
      "source": [
        "Answer Here."
      ],
      "metadata": {
        "id": "TVxDimi2phqP"
      }
    },
    {
      "cell_type": "markdown",
      "source": [
        "##### 2. What is/are the insight(s) found from the chart?"
      ],
      "metadata": {
        "id": "OVtJsKN_phqQ"
      }
    },
    {
      "cell_type": "markdown",
      "source": [
        "Answer Here"
      ],
      "metadata": {
        "id": "ngGi97qjphqQ"
      }
    },
    {
      "cell_type": "markdown",
      "source": [
        "##### 3. Will the gained insights help creating a positive business impact?\n",
        "Are there any insights that lead to negative growth? Justify with specific reason."
      ],
      "metadata": {
        "id": "lssrdh5qphqQ"
      }
    },
    {
      "cell_type": "markdown",
      "source": [
        "Answer Here"
      ],
      "metadata": {
        "id": "tBpY5ekJphqQ"
      }
    },
    {
      "cell_type": "markdown",
      "source": [
        "#### Chart - 10"
      ],
      "metadata": {
        "id": "U2RJ9gkRphqQ"
      }
    },
    {
      "cell_type": "code",
      "source": [
        "# Chart - 10 visualization code"
      ],
      "metadata": {
        "id": "GM7a4YP4phqQ"
      },
      "execution_count": null,
      "outputs": []
    },
    {
      "cell_type": "markdown",
      "source": [
        "##### 1. Why did you pick the specific chart?"
      ],
      "metadata": {
        "id": "1M8mcRywphqQ"
      }
    },
    {
      "cell_type": "markdown",
      "source": [
        "Answer Here."
      ],
      "metadata": {
        "id": "8agQvks0phqQ"
      }
    },
    {
      "cell_type": "markdown",
      "source": [
        "##### 2. What is/are the insight(s) found from the chart?"
      ],
      "metadata": {
        "id": "tgIPom80phqQ"
      }
    },
    {
      "cell_type": "markdown",
      "source": [
        "Answer Here"
      ],
      "metadata": {
        "id": "Qp13pnNzphqQ"
      }
    },
    {
      "cell_type": "markdown",
      "source": [
        "##### 3. Will the gained insights help creating a positive business impact?\n",
        "Are there any insights that lead to negative growth? Justify with specific reason."
      ],
      "metadata": {
        "id": "JMzcOPDDphqR"
      }
    },
    {
      "cell_type": "markdown",
      "source": [
        "Answer Here"
      ],
      "metadata": {
        "id": "R4Ka1PC2phqR"
      }
    },
    {
      "cell_type": "markdown",
      "source": [
        "#### Chart - 11"
      ],
      "metadata": {
        "id": "x-EpHcCOp1ci"
      }
    },
    {
      "cell_type": "code",
      "source": [
        "# Chart - 11 visualization code"
      ],
      "metadata": {
        "id": "mAQTIvtqp1cj"
      },
      "execution_count": null,
      "outputs": []
    },
    {
      "cell_type": "markdown",
      "source": [
        "##### 1. Why did you pick the specific chart?"
      ],
      "metadata": {
        "id": "X_VqEhTip1ck"
      }
    },
    {
      "cell_type": "markdown",
      "source": [
        "Answer Here."
      ],
      "metadata": {
        "id": "-vsMzt_np1ck"
      }
    },
    {
      "cell_type": "markdown",
      "source": [
        "##### 2. What is/are the insight(s) found from the chart?"
      ],
      "metadata": {
        "id": "8zGJKyg5p1ck"
      }
    },
    {
      "cell_type": "markdown",
      "source": [
        "Answer Here"
      ],
      "metadata": {
        "id": "ZYdMsrqVp1ck"
      }
    },
    {
      "cell_type": "markdown",
      "source": [
        "##### 3. Will the gained insights help creating a positive business impact?\n",
        "Are there any insights that lead to negative growth? Justify with specific reason."
      ],
      "metadata": {
        "id": "PVzmfK_Ep1ck"
      }
    },
    {
      "cell_type": "markdown",
      "source": [
        "Answer Here"
      ],
      "metadata": {
        "id": "druuKYZpp1ck"
      }
    },
    {
      "cell_type": "markdown",
      "source": [
        "#### Chart - 12"
      ],
      "metadata": {
        "id": "n3dbpmDWp1ck"
      }
    },
    {
      "cell_type": "code",
      "source": [
        "# Chart - 12 visualization code"
      ],
      "metadata": {
        "id": "bwevp1tKp1ck"
      },
      "execution_count": null,
      "outputs": []
    },
    {
      "cell_type": "markdown",
      "source": [
        "##### 1. Why did you pick the specific chart?"
      ],
      "metadata": {
        "id": "ylSl6qgtp1ck"
      }
    },
    {
      "cell_type": "markdown",
      "source": [
        "Answer Here."
      ],
      "metadata": {
        "id": "m2xqNkiQp1ck"
      }
    },
    {
      "cell_type": "markdown",
      "source": [
        "##### 2. What is/are the insight(s) found from the chart?"
      ],
      "metadata": {
        "id": "ZWILFDl5p1ck"
      }
    },
    {
      "cell_type": "markdown",
      "source": [
        "Answer Here"
      ],
      "metadata": {
        "id": "x-lUsV2mp1ck"
      }
    },
    {
      "cell_type": "markdown",
      "source": [
        "##### 3. Will the gained insights help creating a positive business impact?\n",
        "Are there any insights that lead to negative growth? Justify with specific reason."
      ],
      "metadata": {
        "id": "M7G43BXep1ck"
      }
    },
    {
      "cell_type": "markdown",
      "source": [
        "Answer Here"
      ],
      "metadata": {
        "id": "5wwDJXsLp1cl"
      }
    },
    {
      "cell_type": "markdown",
      "source": [
        "#### Chart - 13"
      ],
      "metadata": {
        "id": "Ag9LCva-p1cl"
      }
    },
    {
      "cell_type": "code",
      "source": [
        "# Chart - 13 visualization code"
      ],
      "metadata": {
        "id": "EUfxeq9-p1cl"
      },
      "execution_count": null,
      "outputs": []
    },
    {
      "cell_type": "markdown",
      "source": [
        "##### 1. Why did you pick the specific chart?"
      ],
      "metadata": {
        "id": "E6MkPsBcp1cl"
      }
    },
    {
      "cell_type": "markdown",
      "source": [
        "Answer Here."
      ],
      "metadata": {
        "id": "V22bRsFWp1cl"
      }
    },
    {
      "cell_type": "markdown",
      "source": [
        "##### 2. What is/are the insight(s) found from the chart?"
      ],
      "metadata": {
        "id": "2cELzS2fp1cl"
      }
    },
    {
      "cell_type": "markdown",
      "source": [
        "Answer Here"
      ],
      "metadata": {
        "id": "ozQPc2_Ip1cl"
      }
    },
    {
      "cell_type": "markdown",
      "source": [
        "##### 3. Will the gained insights help creating a positive business impact?\n",
        "Are there any insights that lead to negative growth? Justify with specific reason."
      ],
      "metadata": {
        "id": "3MPXvC8up1cl"
      }
    },
    {
      "cell_type": "markdown",
      "source": [
        "Answer Here"
      ],
      "metadata": {
        "id": "GL8l1tdLp1cl"
      }
    },
    {
      "cell_type": "markdown",
      "source": [
        "#### Chart - 14 - Correlation Heatmap"
      ],
      "metadata": {
        "id": "NC_X3p0fY2L0"
      }
    },
    {
      "cell_type": "code",
      "source": [
        "# Correlation Heatmap visualization code"
      ],
      "metadata": {
        "id": "xyC9zolEZNRQ"
      },
      "execution_count": null,
      "outputs": []
    },
    {
      "cell_type": "markdown",
      "source": [
        "##### 1. Why did you pick the specific chart?"
      ],
      "metadata": {
        "id": "UV0SzAkaZNRQ"
      }
    },
    {
      "cell_type": "markdown",
      "source": [
        "Answer Here."
      ],
      "metadata": {
        "id": "DVPuT8LYZNRQ"
      }
    },
    {
      "cell_type": "markdown",
      "source": [
        "##### 2. What is/are the insight(s) found from the chart?"
      ],
      "metadata": {
        "id": "YPEH6qLeZNRQ"
      }
    },
    {
      "cell_type": "markdown",
      "source": [
        "Answer Here"
      ],
      "metadata": {
        "id": "bfSqtnDqZNRR"
      }
    },
    {
      "cell_type": "markdown",
      "source": [
        "#### Chart - 15 - Pair Plot"
      ],
      "metadata": {
        "id": "q29F0dvdveiT"
      }
    },
    {
      "cell_type": "code",
      "source": [
        "# Pair Plot visualization code"
      ],
      "metadata": {
        "id": "o58-TEIhveiU"
      },
      "execution_count": null,
      "outputs": []
    },
    {
      "cell_type": "markdown",
      "source": [
        "##### 1. Why did you pick the specific chart?"
      ],
      "metadata": {
        "id": "EXh0U9oCveiU"
      }
    },
    {
      "cell_type": "markdown",
      "source": [
        "Answer Here."
      ],
      "metadata": {
        "id": "eMmPjTByveiU"
      }
    },
    {
      "cell_type": "markdown",
      "source": [
        "##### 2. What is/are the insight(s) found from the chart?"
      ],
      "metadata": {
        "id": "22aHeOlLveiV"
      }
    },
    {
      "cell_type": "markdown",
      "source": [
        "Answer Here"
      ],
      "metadata": {
        "id": "uPQ8RGwHveiV"
      }
    },
    {
      "cell_type": "markdown",
      "source": [
        "## **5. Solution to Business Objective**"
      ],
      "metadata": {
        "id": "JcMwzZxoAimU"
      }
    },
    {
      "cell_type": "markdown",
      "source": [
        "#### What do you suggest the client to achieve Business Objective ?\n",
        "Explain Briefly."
      ],
      "metadata": {
        "id": "8G2x9gOozGDZ"
      }
    },
    {
      "cell_type": "markdown",
      "source": [
        "To achieve the business objective of reducing Uber’s supply-demand gap and increasing ride fulfillment rates, I recommend the following data-driven strategies:\n",
        "\n",
        "1. Deploy More Drivers During Critical Time Slots\n",
        "Increase driver availability during Night (11 PM – 4 AM) and Early Morning (5 AM – 7 AM) where most cancellations and “No Cars Available” issues occur.\n",
        "\n",
        "Use time-based scheduling and shift rotation to ensure coverage.\n",
        "\n",
        "2. Prioritize the Airport Zone\n",
        "Allocate a dedicated pool of drivers for Airport pickups, as the data shows it has the highest request volume but also the highest unfulfilled rate.\n",
        "\n",
        "Introduce re-entry incentives for drivers who drop off at the Airport and wait for the next ride.\n",
        "\n",
        "3. Introduce Smart Incentive Programs\n",
        "Offer early morning bonuses or dynamic fare multipliers to drivers during critical hours.\n",
        "\n",
        "Reward drivers who consistently accept and complete rides from high-cancellation zones.\n",
        "\n",
        "4. Use Predictive Analytics\n",
        "Implement machine learning models to predict high-demand periods and automatically alert or dispatch drivers in advance.\n",
        "\n",
        "This ensures better planning and prevents service gaps before they happen.\n",
        "\n",
        "5. Monitor, Measure & Improve\n",
        "Regularly track time slot–wise and location–wise performance metrics.\n",
        "\n",
        "Use dashboards to monitor cancellations, availability, and fulfillment rate — and make real-time adjustments."
      ],
      "metadata": {
        "id": "pASKb0qOza21"
      }
    },
    {
      "cell_type": "markdown",
      "source": [
        "# **Conclusion**"
      ],
      "metadata": {
        "id": "gCX9965dhzqZ"
      }
    },
    {
      "cell_type": "markdown",
      "source": [
        "This project provided valuable insights into Uber's supply-demand gap by analyzing ride request data using Excel, SQL, and Python-based EDA. The data revealed that a significant number of ride requests were either cancelled or resulted in “No Cars Available,” particularly during Night and Early Morning hours, and most commonly from the Airport pickup point.\n",
        "\n",
        "Through visualizations, heatmaps, and query-based exploration, we identified critical failure patterns and offered actionable recommendations. These included driver reallocation, targeted incentives, and the use of predictive analytics to improve fulfillment rates.\n",
        "\n",
        "By addressing the time and location-based inefficiencies, Uber can significantly reduce ride failures, improve customer satisfaction, and increase revenue. The project successfully met its business objective by turning raw data into meaningful, strategic insights that support better decision-making.\n",
        "\n",
        "In conclusion, this analysis highlights the importance of data-driven operations in building a more reliable and scalable ride-hailing service.\n",
        "\n"
      ],
      "metadata": {
        "id": "Fjb1IsQkh3yE"
      }
    },
    {
      "cell_type": "markdown",
      "source": [
        "### ***Hurrah! You have successfully completed your EDA Capstone Project !!!***"
      ],
      "metadata": {
        "id": "gIfDvo9L0UH2"
      }
    }
  ]
}